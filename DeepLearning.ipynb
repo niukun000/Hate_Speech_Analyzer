{
  "nbformat": 4,
  "nbformat_minor": 0,
  "metadata": {
    "colab": {
      "name": "DeepLearning.ipynb",
      "provenance": [],
      "collapsed_sections": []
    },
    "kernelspec": {
      "name": "python3",
      "display_name": "Python 3"
    }
  },
  "cells": [
    {
      "cell_type": "code",
      "metadata": {
        "id": "QCtjIgYbPoNH",
        "colab_type": "code",
        "outputId": "776c0b0f-f61e-41bc-a6a9-454ccdea6289",
        "colab": {
          "resources": {
            "http://localhost:8080/nbextensions/google.colab/files.js": {
              "data": "Ly8gQ29weXJpZ2h0IDIwMTcgR29vZ2xlIExMQwovLwovLyBMaWNlbnNlZCB1bmRlciB0aGUgQXBhY2hlIExpY2Vuc2UsIFZlcnNpb24gMi4wICh0aGUgIkxpY2Vuc2UiKTsKLy8geW91IG1heSBub3QgdXNlIHRoaXMgZmlsZSBleGNlcHQgaW4gY29tcGxpYW5jZSB3aXRoIHRoZSBMaWNlbnNlLgovLyBZb3UgbWF5IG9idGFpbiBhIGNvcHkgb2YgdGhlIExpY2Vuc2UgYXQKLy8KLy8gICAgICBodHRwOi8vd3d3LmFwYWNoZS5vcmcvbGljZW5zZXMvTElDRU5TRS0yLjAKLy8KLy8gVW5sZXNzIHJlcXVpcmVkIGJ5IGFwcGxpY2FibGUgbGF3IG9yIGFncmVlZCB0byBpbiB3cml0aW5nLCBzb2Z0d2FyZQovLyBkaXN0cmlidXRlZCB1bmRlciB0aGUgTGljZW5zZSBpcyBkaXN0cmlidXRlZCBvbiBhbiAiQVMgSVMiIEJBU0lTLAovLyBXSVRIT1VUIFdBUlJBTlRJRVMgT1IgQ09ORElUSU9OUyBPRiBBTlkgS0lORCwgZWl0aGVyIGV4cHJlc3Mgb3IgaW1wbGllZC4KLy8gU2VlIHRoZSBMaWNlbnNlIGZvciB0aGUgc3BlY2lmaWMgbGFuZ3VhZ2UgZ292ZXJuaW5nIHBlcm1pc3Npb25zIGFuZAovLyBsaW1pdGF0aW9ucyB1bmRlciB0aGUgTGljZW5zZS4KCi8qKgogKiBAZmlsZW92ZXJ2aWV3IEhlbHBlcnMgZm9yIGdvb2dsZS5jb2xhYiBQeXRob24gbW9kdWxlLgogKi8KKGZ1bmN0aW9uKHNjb3BlKSB7CmZ1bmN0aW9uIHNwYW4odGV4dCwgc3R5bGVBdHRyaWJ1dGVzID0ge30pIHsKICBjb25zdCBlbGVtZW50ID0gZG9jdW1lbnQuY3JlYXRlRWxlbWVudCgnc3BhbicpOwogIGVsZW1lbnQudGV4dENvbnRlbnQgPSB0ZXh0OwogIGZvciAoY29uc3Qga2V5IG9mIE9iamVjdC5rZXlzKHN0eWxlQXR0cmlidXRlcykpIHsKICAgIGVsZW1lbnQuc3R5bGVba2V5XSA9IHN0eWxlQXR0cmlidXRlc1trZXldOwogIH0KICByZXR1cm4gZWxlbWVudDsKfQoKLy8gTWF4IG51bWJlciBvZiBieXRlcyB3aGljaCB3aWxsIGJlIHVwbG9hZGVkIGF0IGEgdGltZS4KY29uc3QgTUFYX1BBWUxPQURfU0laRSA9IDEwMCAqIDEwMjQ7Ci8vIE1heCBhbW91bnQgb2YgdGltZSB0byBibG9jayB3YWl0aW5nIGZvciB0aGUgdXNlci4KY29uc3QgRklMRV9DSEFOR0VfVElNRU9VVF9NUyA9IDMwICogMTAwMDsKCmZ1bmN0aW9uIF91cGxvYWRGaWxlcyhpbnB1dElkLCBvdXRwdXRJZCkgewogIGNvbnN0IHN0ZXBzID0gdXBsb2FkRmlsZXNTdGVwKGlucHV0SWQsIG91dHB1dElkKTsKICBjb25zdCBvdXRwdXRFbGVtZW50ID0gZG9jdW1lbnQuZ2V0RWxlbWVudEJ5SWQob3V0cHV0SWQpOwogIC8vIENhY2hlIHN0ZXBzIG9uIHRoZSBvdXRwdXRFbGVtZW50IHRvIG1ha2UgaXQgYXZhaWxhYmxlIGZvciB0aGUgbmV4dCBjYWxsCiAgLy8gdG8gdXBsb2FkRmlsZXNDb250aW51ZSBmcm9tIFB5dGhvbi4KICBvdXRwdXRFbGVtZW50LnN0ZXBzID0gc3RlcHM7CgogIHJldHVybiBfdXBsb2FkRmlsZXNDb250aW51ZShvdXRwdXRJZCk7Cn0KCi8vIFRoaXMgaXMgcm91Z2hseSBhbiBhc3luYyBnZW5lcmF0b3IgKG5vdCBzdXBwb3J0ZWQgaW4gdGhlIGJyb3dzZXIgeWV0KSwKLy8gd2hlcmUgdGhlcmUgYXJlIG11bHRpcGxlIGFzeW5jaHJvbm91cyBzdGVwcyBhbmQgdGhlIFB5dGhvbiBzaWRlIGlzIGdvaW5nCi8vIHRvIHBvbGwgZm9yIGNvbXBsZXRpb24gb2YgZWFjaCBzdGVwLgovLyBUaGlzIHVzZXMgYSBQcm9taXNlIHRvIGJsb2NrIHRoZSBweXRob24gc2lkZSBvbiBjb21wbGV0aW9uIG9mIGVhY2ggc3RlcCwKLy8gdGhlbiBwYXNzZXMgdGhlIHJlc3VsdCBvZiB0aGUgcHJldmlvdXMgc3RlcCBhcyB0aGUgaW5wdXQgdG8gdGhlIG5leHQgc3RlcC4KZnVuY3Rpb24gX3VwbG9hZEZpbGVzQ29udGludWUob3V0cHV0SWQpIHsKICBjb25zdCBvdXRwdXRFbGVtZW50ID0gZG9jdW1lbnQuZ2V0RWxlbWVudEJ5SWQob3V0cHV0SWQpOwogIGNvbnN0IHN0ZXBzID0gb3V0cHV0RWxlbWVudC5zdGVwczsKCiAgY29uc3QgbmV4dCA9IHN0ZXBzLm5leHQob3V0cHV0RWxlbWVudC5sYXN0UHJvbWlzZVZhbHVlKTsKICByZXR1cm4gUHJvbWlzZS5yZXNvbHZlKG5leHQudmFsdWUucHJvbWlzZSkudGhlbigodmFsdWUpID0+IHsKICAgIC8vIENhY2hlIHRoZSBsYXN0IHByb21pc2UgdmFsdWUgdG8gbWFrZSBpdCBhdmFpbGFibGUgdG8gdGhlIG5leHQKICAgIC8vIHN0ZXAgb2YgdGhlIGdlbmVyYXRvci4KICAgIG91dHB1dEVsZW1lbnQubGFzdFByb21pc2VWYWx1ZSA9IHZhbHVlOwogICAgcmV0dXJuIG5leHQudmFsdWUucmVzcG9uc2U7CiAgfSk7Cn0KCi8qKgogKiBHZW5lcmF0b3IgZnVuY3Rpb24gd2hpY2ggaXMgY2FsbGVkIGJldHdlZW4gZWFjaCBhc3luYyBzdGVwIG9mIHRoZSB1cGxvYWQKICogcHJvY2Vzcy4KICogQHBhcmFtIHtzdHJpbmd9IGlucHV0SWQgRWxlbWVudCBJRCBvZiB0aGUgaW5wdXQgZmlsZSBwaWNrZXIgZWxlbWVudC4KICogQHBhcmFtIHtzdHJpbmd9IG91dHB1dElkIEVsZW1lbnQgSUQgb2YgdGhlIG91dHB1dCBkaXNwbGF5LgogKiBAcmV0dXJuIHshSXRlcmFibGU8IU9iamVjdD59IEl0ZXJhYmxlIG9mIG5leHQgc3RlcHMuCiAqLwpmdW5jdGlvbiogdXBsb2FkRmlsZXNTdGVwKGlucHV0SWQsIG91dHB1dElkKSB7CiAgY29uc3QgaW5wdXRFbGVtZW50ID0gZG9jdW1lbnQuZ2V0RWxlbWVudEJ5SWQoaW5wdXRJZCk7CiAgaW5wdXRFbGVtZW50LmRpc2FibGVkID0gZmFsc2U7CgogIGNvbnN0IG91dHB1dEVsZW1lbnQgPSBkb2N1bWVudC5nZXRFbGVtZW50QnlJZChvdXRwdXRJZCk7CiAgb3V0cHV0RWxlbWVudC5pbm5lckhUTUwgPSAnJzsKCiAgY29uc3QgcGlja2VkUHJvbWlzZSA9IG5ldyBQcm9taXNlKChyZXNvbHZlKSA9PiB7CiAgICBpbnB1dEVsZW1lbnQuYWRkRXZlbnRMaXN0ZW5lcignY2hhbmdlJywgKGUpID0+IHsKICAgICAgcmVzb2x2ZShlLnRhcmdldC5maWxlcyk7CiAgICB9KTsKICB9KTsKCiAgY29uc3QgY2FuY2VsID0gZG9jdW1lbnQuY3JlYXRlRWxlbWVudCgnYnV0dG9uJyk7CiAgaW5wdXRFbGVtZW50LnBhcmVudEVsZW1lbnQuYXBwZW5kQ2hpbGQoY2FuY2VsKTsKICBjYW5jZWwudGV4dENvbnRlbnQgPSAnQ2FuY2VsIHVwbG9hZCc7CiAgY29uc3QgY2FuY2VsUHJvbWlzZSA9IG5ldyBQcm9taXNlKChyZXNvbHZlKSA9PiB7CiAgICBjYW5jZWwub25jbGljayA9ICgpID0+IHsKICAgICAgcmVzb2x2ZShudWxsKTsKICAgIH07CiAgfSk7CgogIC8vIENhbmNlbCB1cGxvYWQgaWYgdXNlciBoYXNuJ3QgcGlja2VkIGFueXRoaW5nIGluIHRpbWVvdXQuCiAgY29uc3QgdGltZW91dFByb21pc2UgPSBuZXcgUHJvbWlzZSgocmVzb2x2ZSkgPT4gewogICAgc2V0VGltZW91dCgoKSA9PiB7CiAgICAgIHJlc29sdmUobnVsbCk7CiAgICB9LCBGSUxFX0NIQU5HRV9USU1FT1VUX01TKTsKICB9KTsKCiAgLy8gV2FpdCBmb3IgdGhlIHVzZXIgdG8gcGljayB0aGUgZmlsZXMuCiAgY29uc3QgZmlsZXMgPSB5aWVsZCB7CiAgICBwcm9taXNlOiBQcm9taXNlLnJhY2UoW3BpY2tlZFByb21pc2UsIHRpbWVvdXRQcm9taXNlLCBjYW5jZWxQcm9taXNlXSksCiAgICByZXNwb25zZTogewogICAgICBhY3Rpb246ICdzdGFydGluZycsCiAgICB9CiAgfTsKCiAgaWYgKCFmaWxlcykgewogICAgcmV0dXJuIHsKICAgICAgcmVzcG9uc2U6IHsKICAgICAgICBhY3Rpb246ICdjb21wbGV0ZScsCiAgICAgIH0KICAgIH07CiAgfQoKICBjYW5jZWwucmVtb3ZlKCk7CgogIC8vIERpc2FibGUgdGhlIGlucHV0IGVsZW1lbnQgc2luY2UgZnVydGhlciBwaWNrcyBhcmUgbm90IGFsbG93ZWQuCiAgaW5wdXRFbGVtZW50LmRpc2FibGVkID0gdHJ1ZTsKCiAgZm9yIChjb25zdCBmaWxlIG9mIGZpbGVzKSB7CiAgICBjb25zdCBsaSA9IGRvY3VtZW50LmNyZWF0ZUVsZW1lbnQoJ2xpJyk7CiAgICBsaS5hcHBlbmQoc3BhbihmaWxlLm5hbWUsIHtmb250V2VpZ2h0OiAnYm9sZCd9KSk7CiAgICBsaS5hcHBlbmQoc3BhbigKICAgICAgICBgKCR7ZmlsZS50eXBlIHx8ICduL2EnfSkgLSAke2ZpbGUuc2l6ZX0gYnl0ZXMsIGAgKwogICAgICAgIGBsYXN0IG1vZGlmaWVkOiAkewogICAgICAgICAgICBmaWxlLmxhc3RNb2RpZmllZERhdGUgPyBmaWxlLmxhc3RNb2RpZmllZERhdGUudG9Mb2NhbGVEYXRlU3RyaW5nKCkgOgogICAgICAgICAgICAgICAgICAgICAgICAgICAgICAgICAgICAnbi9hJ30gLSBgKSk7CiAgICBjb25zdCBwZXJjZW50ID0gc3BhbignMCUgZG9uZScpOwogICAgbGkuYXBwZW5kQ2hpbGQocGVyY2VudCk7CgogICAgb3V0cHV0RWxlbWVudC5hcHBlbmRDaGlsZChsaSk7CgogICAgY29uc3QgZmlsZURhdGFQcm9taXNlID0gbmV3IFByb21pc2UoKHJlc29sdmUpID0+IHsKICAgICAgY29uc3QgcmVhZGVyID0gbmV3IEZpbGVSZWFkZXIoKTsKICAgICAgcmVhZGVyLm9ubG9hZCA9IChlKSA9PiB7CiAgICAgICAgcmVzb2x2ZShlLnRhcmdldC5yZXN1bHQpOwogICAgICB9OwogICAgICByZWFkZXIucmVhZEFzQXJyYXlCdWZmZXIoZmlsZSk7CiAgICB9KTsKICAgIC8vIFdhaXQgZm9yIHRoZSBkYXRhIHRvIGJlIHJlYWR5LgogICAgbGV0IGZpbGVEYXRhID0geWllbGQgewogICAgICBwcm9taXNlOiBmaWxlRGF0YVByb21pc2UsCiAgICAgIHJlc3BvbnNlOiB7CiAgICAgICAgYWN0aW9uOiAnY29udGludWUnLAogICAgICB9CiAgICB9OwoKICAgIC8vIFVzZSBhIGNodW5rZWQgc2VuZGluZyB0byBhdm9pZCBtZXNzYWdlIHNpemUgbGltaXRzLiBTZWUgYi82MjExNTY2MC4KICAgIGxldCBwb3NpdGlvbiA9IDA7CiAgICB3aGlsZSAocG9zaXRpb24gPCBmaWxlRGF0YS5ieXRlTGVuZ3RoKSB7CiAgICAgIGNvbnN0IGxlbmd0aCA9IE1hdGgubWluKGZpbGVEYXRhLmJ5dGVMZW5ndGggLSBwb3NpdGlvbiwgTUFYX1BBWUxPQURfU0laRSk7CiAgICAgIGNvbnN0IGNodW5rID0gbmV3IFVpbnQ4QXJyYXkoZmlsZURhdGEsIHBvc2l0aW9uLCBsZW5ndGgpOwogICAgICBwb3NpdGlvbiArPSBsZW5ndGg7CgogICAgICBjb25zdCBiYXNlNjQgPSBidG9hKFN0cmluZy5mcm9tQ2hhckNvZGUuYXBwbHkobnVsbCwgY2h1bmspKTsKICAgICAgeWllbGQgewogICAgICAgIHJlc3BvbnNlOiB7CiAgICAgICAgICBhY3Rpb246ICdhcHBlbmQnLAogICAgICAgICAgZmlsZTogZmlsZS5uYW1lLAogICAgICAgICAgZGF0YTogYmFzZTY0LAogICAgICAgIH0sCiAgICAgIH07CiAgICAgIHBlcmNlbnQudGV4dENvbnRlbnQgPQogICAgICAgICAgYCR7TWF0aC5yb3VuZCgocG9zaXRpb24gLyBmaWxlRGF0YS5ieXRlTGVuZ3RoKSAqIDEwMCl9JSBkb25lYDsKICAgIH0KICB9CgogIC8vIEFsbCBkb25lLgogIHlpZWxkIHsKICAgIHJlc3BvbnNlOiB7CiAgICAgIGFjdGlvbjogJ2NvbXBsZXRlJywKICAgIH0KICB9Owp9CgpzY29wZS5nb29nbGUgPSBzY29wZS5nb29nbGUgfHwge307CnNjb3BlLmdvb2dsZS5jb2xhYiA9IHNjb3BlLmdvb2dsZS5jb2xhYiB8fCB7fTsKc2NvcGUuZ29vZ2xlLmNvbGFiLl9maWxlcyA9IHsKICBfdXBsb2FkRmlsZXMsCiAgX3VwbG9hZEZpbGVzQ29udGludWUsCn07Cn0pKHNlbGYpOwo=",
              "ok": true,
              "headers": [
                [
                  "content-type",
                  "application/javascript"
                ]
              ],
              "status": 200,
              "status_text": ""
            }
          },
          "base_uri": "https://localhost:8080/",
          "height": 74
        }
      },
      "source": [
        "from google.colab import files\n",
        "uploaded = files.upload() "
      ],
      "execution_count": 22,
      "outputs": [
        {
          "output_type": "display_data",
          "data": {
            "text/html": [
              "\n",
              "     <input type=\"file\" id=\"files-48a21bb4-3f98-4618-bfea-29915776ffd6\" name=\"files[]\" multiple disabled />\n",
              "     <output id=\"result-48a21bb4-3f98-4618-bfea-29915776ffd6\">\n",
              "      Upload widget is only available when the cell has been executed in the\n",
              "      current browser session. Please rerun this cell to enable.\n",
              "      </output>\n",
              "      <script src=\"/nbextensions/google.colab/files.js\"></script> "
            ],
            "text/plain": [
              "<IPython.core.display.HTML object>"
            ]
          },
          "metadata": {
            "tags": []
          }
        },
        {
          "output_type": "stream",
          "text": [
            "Saving labeled_data.csv to labeled_data (1).csv\n"
          ],
          "name": "stdout"
        }
      ]
    },
    {
      "cell_type": "code",
      "metadata": {
        "id": "_A23vDxcr7x0",
        "colab_type": "code",
        "outputId": "8f812df6-4c51-4708-8d39-bc46533cd840",
        "colab": {
          "resources": {
            "http://localhost:8080/nbextensions/google.colab/files.js": {
              "data": "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",
              "ok": true,
              "headers": [
                [
                  "content-type",
                  "application/javascript"
                ]
              ],
              "status": 200,
              "status_text": ""
            }
          },
          "base_uri": "https://localhost:8080/",
          "height": 74
        }
      },
      "source": [
        "import pandas as pd\n",
        "glove = files.upload()\n"
      ],
      "execution_count": 25,
      "outputs": [
        {
          "output_type": "display_data",
          "data": {
            "text/html": [
              "\n",
              "     <input type=\"file\" id=\"files-bd2a2d59-4697-4c32-ba45-a0813b4335db\" name=\"files[]\" multiple disabled />\n",
              "     <output id=\"result-bd2a2d59-4697-4c32-ba45-a0813b4335db\">\n",
              "      Upload widget is only available when the cell has been executed in the\n",
              "      current browser session. Please rerun this cell to enable.\n",
              "      </output>\n",
              "      <script src=\"/nbextensions/google.colab/files.js\"></script> "
            ],
            "text/plain": [
              "<IPython.core.display.HTML object>"
            ]
          },
          "metadata": {
            "tags": []
          }
        },
        {
          "output_type": "stream",
          "text": [
            "Saving glove.6B.50d.txt to glove.6B.50d (1).txt\n"
          ],
          "name": "stdout"
        }
      ]
    },
    {
      "cell_type": "code",
      "metadata": {
        "id": "RctUr3mtsUeb",
        "colab_type": "code",
        "colab": {}
      },
      "source": [
        "def get_glove():\n",
        "  with open ('glove.6B.50d.txt') as f:\n",
        "    for line in f:\n",
        "            word, *vector = line.split()\n",
        "            if word in word_index:\n",
        "                idx = word_index[word] \n",
        "                embedding_matrix[idx] = np.array(\n",
        "                    vector, dtype=np.float32)[:embedding_dim]\n",
        "\n",
        "    return embedding_matrix"
      ],
      "execution_count": 0,
      "outputs": []
    },
    {
      "cell_type": "code",
      "metadata": {
        "id": "5Km8oFSK4p1m",
        "colab_type": "code",
        "colab": {}
      },
      "source": [
        "\n",
        "EPOCHS = 10\n",
        "BATCH_SIZE = 30\n",
        "HIDEN_STATE = 256\n",
        "FILTER_SIZE = 150\n",
        "KERNEL_SIZE = 3\n",
        "embedding_dim=300"
      ],
      "execution_count": 0,
      "outputs": []
    },
    {
      "cell_type": "code",
      "metadata": {
        "id": "NCNNEPpg_6ed",
        "colab_type": "code",
        "colab": {
          "base_uri": "https://localhost:8080/",
          "height": 198
        },
        "outputId": "51635768-879f-43b3-8877-ce6dc4249d0d"
      },
      "source": [
        "import pandas as pd\n",
        "from wordcloud import WordCloud\n",
        "import matplotlib.pyplot as plt\n",
        "def _get_data():\n",
        "        try:\n",
        "\n",
        "            # csv_path =  'labeled_data.csv'\n",
        "            # df = pd.read_csv(io.BytesIO(uploaded['labeled_data.csv']))\n",
        "            data = pd.read_csv('labeled_data.csv', sep=',', header=None, error_bad_lines=False) # use pandas to read CSV\n",
        "            data = data.dropna() # drop any rows with nans\n",
        "            Y = data[5]\n",
        "           \n",
        "            # Y = [int(i) for i in Y.values]\n",
        "            return data[6].values,Y.values\n",
        "        except ValueError:\n",
        "            return None, None\n",
        "\n",
        "text = _get_data()[0][0]\n",
        "# for t,l in (_get_data()[0], _get_data[1]):\n",
        "#   # pass\n",
        "#   print(t, l)\n",
        "for t in _get_data()[0][1:]:\n",
        "  text += \" \"+ str(t)\n",
        "\n",
        "# lower max_font_size, change the maximum number of word and lighten the background:\n",
        "wordcloud = WordCloud(max_font_size=50, max_words=100, background_color=\"white\").generate(text)\n",
        "plt.figure()\n",
        "plt.imshow(wordcloud, interpolation=\"bilinear\")\n",
        "plt.axis(\"off\")\n",
        "plt.show()"
      ],
      "execution_count": 28,
      "outputs": [
        {
          "output_type": "display_data",
          "data": {
            "image/png": "[encoded data removed]",
            "text/plain": [
              "<Figure size 432x288 with 1 Axes>"
            ]
          },
          "metadata": {
            "tags": []
          }
        }
      ]
    },
    {
      "cell_type": "code",
      "metadata": {
        "id": "sfp8rYAxP3-e",
        "colab_type": "code",
        "colab": {
          "base_uri": "https://localhost:8080/",
          "height": 50
        },
        "outputId": "28a955c3-07db-43de-c3cd-814f914e52a5"
      },
      "source": [
        "import io\n",
        "import os\n",
        "import re\n",
        "import string\n",
        "from keras.models import Sequential\n",
        "from keras.layers import Dense\n",
        "from keras.layers import LSTM\n",
        "from keras.layers import Dropout\n",
        "from keras.layers import Flatten\n",
        "from keras.layers.convolutional import Conv1D\n",
        "from keras.layers.convolutional import MaxPooling1D\n",
        "from keras.layers.embeddings import Embedding\n",
        "from keras.callbacks import ModelCheckpoint\n",
        "from sklearn.externals import joblib\n",
        "from sklearn import preprocessing\n",
        "import pandas as pd\n",
        "import numpy as np\n",
        "from nltk.tokenize import word_tokenize\n",
        "from nltk.corpus import stopwords\n",
        "from nltk.stem.porter import PorterStemmer\n",
        "from keras.preprocessing import sequence\n",
        "from keras.preprocessing.text import Tokenizer\n",
        "import pdb\n",
        "from wordcloud import WordCloud\n",
        "\n",
        "import nltk\n",
        "nltk.download('wordnet')\n",
        "from nltk.stem import WordNetLemmatizer \n",
        "\n",
        "from sklearn.model_selection import train_test_split, StratifiedKFold\n",
        "from sklearn import pipeline, feature_extraction, svm, metrics\n",
        "from keras.layers import Conv1D, GlobalAveragePooling1D, MaxPooling1D\n",
        "from numpy import array\n",
        "from numpy import asarray\n",
        "from numpy import zeros\n",
        "from keras.preprocessing.text import Tokenizer\n",
        "from keras.preprocessing.sequence import pad_sequences\n",
        "import random\n",
        "  \n",
        "lemmatizer = WordNetLemmatizer()\n",
        "\n",
        "TAG_RE = re.compile(r'<[^>]+>')\n",
        "\n",
        "\n",
        "\n",
        "\n",
        "def _get_vocabulary(documents):\n",
        "    return set(\" \".join(documents).split())\n",
        "\n",
        "def _get_tokenizer(documents):\n",
        "    tokenizer = Tokenizer()\n",
        "    tokenizer.fit_on_texts(documents)\n",
        "    return tokenizer\n",
        "\n",
        "def _clean_documents(documents):\n",
        "    # convert to list\n",
        "    documents = documents.tolist()\n",
        "    # clean docs\n",
        "    print(\"Starting cleaning %s documents\" % len(documents))\n",
        "    documents = [_clean_doc(doc) for doc in documents]\n",
        "    return documents\n",
        "\n",
        "def _clean_doc( doc):\n",
        "    # remove HTML tags\n",
        "    doc = _clean_tags(doc)\n",
        "    # replace all newlines and tabs\n",
        "    doc = doc.replace('\\\\n', ' ').replace('\\\\r', ' ').replace('\\\\t', ' ')\n",
        "    # add missing space after full stops and commas\n",
        "    doc = re.sub(r'(?<=[.,])(?=[^\\s])', r' ', doc)\n",
        "    \n",
        "    # create tokens\n",
        "    tokens = word_tokenize(doc)\n",
        "    # downcase\n",
        "    tokens = [w.lower() for w in tokens]\n",
        "    \n",
        "    # regexp\n",
        "    re_punc = re.compile('[%s]' % re.escape(string.punctuation))\n",
        "    # for i in range(len(tokens)):\n",
        "      # if tokens[i][0] in re_punc:\n",
        "        # del tokens[i] \n",
        "    stripped = [re_punc.sub('', w) for w in tokens]\n",
        "    # remove non-alphabetic tokens\n",
        "    words = [word for word in stripped if word.isalpha()]\n",
        "    # remove stopwords\n",
        "    stop_words = set(stopwords.words('english'))\n",
        "    # words = [w for w in words if not w in stop_words]\n",
        "    #because there are many \"nt\"s and it may be important\n",
        "    # for i in range(len(words)):\n",
        "    #   if words[i] == \"nt\":\n",
        "    #     words[i] = \"not\"\n",
        "\n",
        "    # lemmatizer = WordNetLemmatizer()\n",
        "    # tokens = [lemmatizer.lemmatize(w) for w in words]\n",
        "    # reduce word to base\n",
        "    # porter = PorterStemmer()\n",
        "    # stemmed = [porter.stem(word) for word in words]\n",
        "    print('.', end='', flush=True)\n",
        "    return \" \".join(words)\n",
        "\n",
        "def _clean_tags( text):\n",
        "    return TAG_RE.sub('', text)\n",
        "\n",
        "def _get_model( vocabulary_size=1, input_length=1, load_weights=False):\n",
        "    try:\n",
        "        model = Sequential()\n",
        "        model.add(Embedding(vocabulary_size, 16, input_length=input_length))\n",
        "        model.add(MaxPooling1D(5))\n",
        "        model.add(LSTM(10))\n",
        "        model.add(Dense(1, activation='sigmoid'))\n",
        "\n",
        "        model.compile(loss='binary_crossentropy', optimizer='adam', metrics=['binary_accuracy'])\n",
        "        return model\n",
        "    except ValueError:\n",
        "        return None\n",
        "\n",
        "\n"
      ],
      "execution_count": 29,
      "outputs": [
        {
          "output_type": "stream",
          "text": [
            "[nltk_data] Downloading package wordnet to /root/nltk_data...\n",
            "[nltk_data]   Package wordnet is already up-to-date!\n"
          ],
          "name": "stdout"
        }
      ]
    },
    {
      "cell_type": "code",
      "metadata": {
        "id": "VIh1QG5eAlsE",
        "colab_type": "code",
        "colab": {}
      },
      "source": [
        "# doc =\"!!! RT @mayasolovely: As a woman you shouldn't complain about cleaning up your house. &amp; as a man you should always take the trash out...\"\n",
        "# print(_clean_doc(doc))\n",
        "# print(lemmatizer.lemmatize(doc))"
      ],
      "execution_count": 0,
      "outputs": []
    },
    {
      "cell_type": "code",
      "metadata": {
        "id": "BUbJjyh34OsA",
        "colab_type": "code",
        "colab": {}
      },
      "source": [
        ""
      ],
      "execution_count": 0,
      "outputs": []
    },
    {
      "cell_type": "code",
      "metadata": {
        "id": "TbSSGCQJArUb",
        "colab_type": "code",
        "colab": {
          "base_uri": "https://localhost:8080/",
          "height": 70
        },
        "outputId": "be47a3ef-c1ba-41ee-8f30-4df5d6291a3a"
      },
      "source": [
        "try:\n",
        "  X, Y = _get_data()\n",
        "  documents = _clean_documents(X)\n",
        "except:\n",
        "  nltk.download(\"stopwords\")\n",
        "  nltk.download('punkt')\n",
        "  X, Y = _get_data()\n",
        "  documents = _clean_documents(X)"
      ],
      "execution_count": 31,
      "outputs": [
        {
          "output_type": "stream",
          "text": [
            "Starting cleaning 24783 documents\n",
            "..............................................................................................................................................................................................................................................................................................................................................................................................................................................................................................................................................................................................................................................................................................................................................................................................................................................................................................................................................................................................................................................................................................................................................................................................................................................................................................................................................................................................................................................................................................................................................................................................................................................................................................................................................................................................................................................................................................................................................................................................................................................................................................................................................................................................................................................................................................................................................................................................................................................................................................................................................................................................................................................................................................................................................................................................................................................................................................................................................................................................................................................................................................................................................................................................................................................................................................................................................................................................................................................................................................................................................................................................................................................................................................................................................................................................................................................................................................................................................................................................................................................................................................................................................................................................................................................................................................................................................................................................................................................................................................................................................................................................................................................................................................................................................................................................................................................................................................................................................................................................................................................................................................................................................................................................................................................................................................................................................................................................................................................................................................................................................................................................................................................................................................................................................................................................................................................................................................................................................................................................................................................................................................................................................................................................................................................................................................................................................................................................................................................................................................................................................................................................................................................................................................................................................................................................................................................................................................................................................................................................................................................................................................................................................................................................................................................................................................................................................................................................................................................................................................................................................................................................................................................................................................................................................................................................................................................................................................................................................................................................................................................................................................................................................................................................................................................................................................................................................................................................................................................................................................................................................................................................................................................................................................................................................................................................................................................................................................................................................................................................................................................................................................................................................................................................................................................................................................................................................................................................................................................................................................................................................................................................................................................................................................................................................................................................................................................................................................................................................................................................................................................................................................................................................................................................................................................................................................................................................................................................................................................................................................................................................................................................................................................................................................................................................................................................................................................................................................................................................................................................................................................................................................................................................................................................................................................................................................................................................................................................................................................................................................................................................................................................................................................................................................................................................................................................................................................................................................................................................................................................................................................................................................................................................................................................................................................................................................................................................................................................................................................................................................................................................................................................................................................................................................................................................................................................................................................................................................................................................................................................................................................................................................................................................................................................................................................................................................................................................................................................................................................................................................................................................................................................................................................................................................................................................................................................................................................................................................................................................................................................................................................................................................................................................................................................................................................................................................................................................................................................................................................................................................................................................................................................................................................................................................................................................................................................................................................................................................................................................................................................................................................................................................................................................................................................................................................................................................................................................................................................................................................................................................................................................................................................................................................................................................................................................................................................................................................................................................................................................................................................................................................................................................................................................................................................................................................................................................................................................................................................................................................................................................................................................................................................................................................................................................................................................................................................................................................................................................................................................................................................................................................................................................................................................................................................................................................................................................................................................................................................................................................................................................................................................................................................................................................................................................................................................................................................................................................................................................................................................................................................................................................................................................................................................................................................................................................................................................................................................................................................................................................................................................................................................................................................................................................................................................................................................................................................................................................................................................................................................................................................................................................................................................................................................................................................................................................................................................................................................................................................................................................................................................................................................................................................................................................................................................................................................................................................................................................................................................................................................................................................................................................................................................................................................................................................................................................................................................................................................................................................................................................................................................................................................................................................................................................................................................................................................................................................................................................................................................................................................................................................................................................................................................................................................................................................................................................................................................................................................................................................................................................................................................................................................................................................................................................................................................................................................................................................................................................................................................................................................................................................................................................................................................................................................................................................................................................................................................................................................................................................................................................................................................................................................................................................................................................................................................................................................................................................................................................................................................................................................................................................................................................................................................................................................................................................................................................................................................................................................................................................................................................................................................................................................................................................................................................................................................................................................................................................................................................................................................................................................................................................................................................................................................................................................................................................................................................................................................................................................................................................................................................................................................................................................................................................................................................................................................................................................................................................................................................................................................................................................................................................................................................................................................................................................................................................................................................................................................................................................................................................................................................................................................................................................................................................................................................................................................................................................................................................................."
          ],
          "name": "stdout"
        }
      ]
    },
    {
      "cell_type": "code",
      "metadata": {
        "id": "elKnSIXtAuEg",
        "colab_type": "code",
        "colab": {
          "base_uri": "https://localhost:8080/",
          "height": 34
        },
        "outputId": "d52b0fee-e7fd-4d77-cac4-c6c898b02bf1"
      },
      "source": [
        "from keras.preprocessing.text import Tokenizer\n",
        "from keras.preprocessing.sequence import pad_sequences\n",
        "\n",
        "vocabulary = _get_vocabulary(documents)\n",
        "vocab_size = len(vocabulary) + 1\n",
        "\n",
        "tokenizer = Tokenizer()\n",
        "tokenizer.fit_on_texts(documents)\n",
        "# encoded = tokenizer.texts_to_sequences(documents)\n",
        "word_index = tokenizer.word_index\n",
        "print('Found %s unique tokens.' % len(word_index))\n",
        "\n",
        "# X = pad_sequences(sequences, maxlen=max_document_length)\n",
        "\n",
        "tokenizer = _get_tokenizer(documents)\n",
        "max_document_length = max([len(s.split()) for s in documents])\n",
        "encoded = tokenizer.texts_to_sequences(documents)\n",
        "X = sequence.pad_sequences(encoded, maxlen=max_document_length)\n",
        "# model = _get_model(vocab_size, max_document_length)"
      ],
      "execution_count": 32,
      "outputs": [
        {
          "output_type": "stream",
          "text": [
            "Found 30344 unique tokens.\n"
          ],
          "name": "stdout"
        }
      ]
    },
    {
      "cell_type": "markdown",
      "metadata": {
        "id": "Excr6LulXVby",
        "colab_type": "text"
      },
      "source": [
        "GLOVE"
      ]
    },
    {
      "cell_type": "code",
      "metadata": {
        "id": "kLxrYCutoEYX",
        "colab_type": "code",
        "colab": {
          "base_uri": "https://localhost:8080/",
          "height": 34
        },
        "outputId": "1af714f0-5934-4300-c26c-665db50d0c8e"
      },
      "source": [
        "MAX_SEQUENCE_LENGTH = 1000\n",
        "MAX_NUM_WORDS = 20000\n",
        "EMBEDDING_DIM = 100\n",
        "\n",
        "\n",
        "embeddings_index = {}\n",
        "f = open('glove.6B.50d.txt')\n",
        "for line in f:\n",
        "    values = line.split()\n",
        "    word = values[0]\n",
        "    coefs = np.asarray(values[1:], dtype='float32')\n",
        "    embeddings_index[word] = coefs\n",
        "f.close()\n",
        "\n",
        "print('Found %s word vectors.' % len(embeddings_index))\n",
        "\n",
        "embedding_matrix = np.zeros((len(word_index) + 1, 50))\n",
        "for word, i in word_index.items():\n",
        "    embedding_vector = embeddings_index.get(word)\n",
        "    if embedding_vector is not None:\n",
        "        # words not found in embedding index will be all-zeros.\n",
        "        embedding_matrix[i] = embedding_vector\n",
        "    else: embedding_matrix[i] = random.random()"
      ],
      "execution_count": 33,
      "outputs": [
        {
          "output_type": "stream",
          "text": [
            "Found 400000 word vectors.\n"
          ],
          "name": "stdout"
        }
      ]
    },
    {
      "cell_type": "code",
      "metadata": {
        "id": "GLQxilUH4pdX",
        "colab_type": "code",
        "colab": {
          "base_uri": "https://localhost:8080/",
          "height": 1000
        },
        "outputId": "4a596f8d-50ed-4431-ac28-21e40ffe34f0"
      },
      "source": [
        "from sklearn.model_selection import train_test_split, StratifiedKFold\n",
        "from sklearn import pipeline, feature_extraction, svm, metrics\n",
        "from keras.layers import Bidirectional\n",
        "\n",
        "def LSTM_model():\n",
        "        model = Sequential()\n",
        "        \n",
        "        model.add(Embedding(vocab_size, 50, weights=[embedding_matrix], input_length=max_document_length, trainable=True))\n",
        "        \n",
        "        # model.add(Bidirectional(LSTM(HIDEN_STATE, return_sequences = True)))\n",
        "\n",
        "        # model.add(Dropout(0.5))\n",
        "\n",
        "        # model.add(Bidirectional(LSTM(HIDEN_STATE, return_sequences = True)))\n",
        "\n",
        "        model.add(Dropout(0.5))  \n",
        "\n",
        "        model.add(LSTM(HIDEN_STATE, return_sequences = True))\n",
        "        model.add(SeqSelfAttention(attention_activation='sigmoid'))\n",
        "        model.add(GlobalAveragePooling1D())\n",
        "        model.add(Dense(3, activation=\"softmax\"))\n",
        "\n",
        "        model.compile(loss='sparse_categorical_crossentropy', optimizer='adam', metrics=['accuracy'])\n",
        "        return model\n",
        "\n",
        "def classify(X, y):\n",
        "    # self.split(X,y)\n",
        "    cv = StratifiedKFold(n_splits=5)\n",
        "    results = [0,0,0, 0,0,0,0,0,0]\n",
        "    for train_idx, test_idx, in cv.split(X, y):\n",
        "        X_train, y_train = X[train_idx], y[train_idx]\n",
        "        X_test, y_test = X[test_idx], y[test_idx]\n",
        "        model = LSTM_model()\n",
        "        model.fit(X_train, y_train, validation_split=0.2, epochs=EPOCHS, batch_size=BATCH_SIZE, verbose=1)\n",
        "\n",
        "        y_pred = model.predict_classes(X_test) \n",
        "        y_test = [int(i) for i in y_test]\n",
        "        print(metrics.classification_report(y_test, y_pred))\n",
        "        results = [x + y for x, y in zip(results , list( metrics.precision_recall_fscore_support(y_test, y_pred, average=\"macro\")[:-1] + metrics.precision_recall_fscore_support(y_test, y_pred, average=\"weighted\")[:-1]))]\n",
        "    print([round(x / 5, 2) for x in results ])\n",
        "classify(X,Y)\n",
        "\n"
      ],
      "execution_count": 45,
      "outputs": [
        {
          "output_type": "stream",
          "text": [
            "Train on 15860 samples, validate on 3966 samples\n",
            "Epoch 1/10\n",
            "15860/15860 [==============================] - 80s 5ms/step - loss: 0.4865 - acc: 0.8304 - val_loss: 0.3306 - val_acc: 0.8893\n",
            "Epoch 2/10\n",
            "15860/15860 [==============================] - 77s 5ms/step - loss: 0.3540 - acc: 0.8771 - val_loss: 0.2972 - val_acc: 0.9029\n",
            "Epoch 3/10\n",
            "15860/15860 [==============================] - 76s 5ms/step - loss: 0.3093 - acc: 0.8914 - val_loss: 0.2722 - val_acc: 0.9062\n",
            "Epoch 4/10\n",
            "15860/15860 [==============================] - 76s 5ms/step - loss: 0.2835 - acc: 0.9010 - val_loss: 0.2572 - val_acc: 0.9095\n",
            "Epoch 5/10\n",
            "15860/15860 [==============================] - 76s 5ms/step - loss: 0.2606 - acc: 0.9090 - val_loss: 0.2527 - val_acc: 0.9153\n",
            "Epoch 6/10\n",
            "15860/15860 [==============================] - 76s 5ms/step - loss: 0.2397 - acc: 0.9163 - val_loss: 0.2510 - val_acc: 0.9138\n",
            "Epoch 7/10\n",
            "15860/15860 [==============================] - 76s 5ms/step - loss: 0.2202 - acc: 0.9229 - val_loss: 0.2486 - val_acc: 0.9165\n",
            "Epoch 8/10\n",
            "15860/15860 [==============================] - 76s 5ms/step - loss: 0.2017 - acc: 0.9291 - val_loss: 0.2543 - val_acc: 0.9153\n",
            "Epoch 9/10\n",
            "15860/15860 [==============================] - 77s 5ms/step - loss: 0.1838 - acc: 0.9344 - val_loss: 0.2483 - val_acc: 0.9173\n",
            "Epoch 10/10\n",
            "15860/15860 [==============================] - 76s 5ms/step - loss: 0.1637 - acc: 0.9421 - val_loss: 0.2566 - val_acc: 0.9128\n",
            "              precision    recall  f1-score   support\n",
            "\n",
            "           0       0.41      0.44      0.43       286\n",
            "           1       0.93      0.93      0.93      3838\n",
            "           2       0.84      0.83      0.83       833\n",
            "\n",
            "    accuracy                           0.88      4957\n",
            "   macro avg       0.73      0.73      0.73      4957\n",
            "weighted avg       0.89      0.88      0.88      4957\n",
            "\n",
            "Train on 15860 samples, validate on 3966 samples\n",
            "Epoch 1/10\n",
            "15860/15860 [==============================] - 79s 5ms/step - loss: 0.4988 - acc: 0.8248 - val_loss: 0.3341 - val_acc: 0.8843\n",
            "Epoch 2/10\n",
            "15860/15860 [==============================] - 76s 5ms/step - loss: 0.3589 - acc: 0.8734 - val_loss: 0.2875 - val_acc: 0.9037\n",
            "Epoch 3/10\n",
            "15860/15860 [==============================] - 76s 5ms/step - loss: 0.3080 - acc: 0.8929 - val_loss: 0.2700 - val_acc: 0.9097\n",
            "Epoch 4/10\n",
            "15860/15860 [==============================] - 76s 5ms/step - loss: 0.2828 - acc: 0.9002 - val_loss: 0.2546 - val_acc: 0.9107\n",
            "Epoch 5/10\n",
            "15860/15860 [==============================] - 75s 5ms/step - loss: 0.2624 - acc: 0.9049 - val_loss: 0.2454 - val_acc: 0.9140\n",
            "Epoch 6/10\n",
            "15860/15860 [==============================] - 75s 5ms/step - loss: 0.2379 - acc: 0.9163 - val_loss: 0.2655 - val_acc: 0.9080\n",
            "Epoch 7/10\n",
            "15860/15860 [==============================] - 76s 5ms/step - loss: 0.2192 - acc: 0.9251 - val_loss: 0.2523 - val_acc: 0.9153\n",
            "Epoch 8/10\n",
            "15860/15860 [==============================] - 75s 5ms/step - loss: 0.2024 - acc: 0.9284 - val_loss: 0.2575 - val_acc: 0.9117\n",
            "Epoch 9/10\n",
            "15860/15860 [==============================] - 75s 5ms/step - loss: 0.1788 - acc: 0.9375 - val_loss: 0.2508 - val_acc: 0.9178\n",
            "Epoch 10/10\n",
            "15860/15860 [==============================] - 75s 5ms/step - loss: 0.1596 - acc: 0.9432 - val_loss: 0.2504 - val_acc: 0.9168\n",
            "              precision    recall  f1-score   support\n",
            "\n",
            "           0       0.45      0.31      0.37       286\n",
            "           1       0.92      0.95      0.94      3838\n",
            "           2       0.86      0.81      0.84       833\n",
            "\n",
            "    accuracy                           0.89      4957\n",
            "   macro avg       0.74      0.69      0.71      4957\n",
            "weighted avg       0.88      0.89      0.89      4957\n",
            "\n",
            "Train on 15860 samples, validate on 3966 samples\n",
            "Epoch 1/10\n",
            "15860/15860 [==============================] - 79s 5ms/step - loss: 0.4996 - acc: 0.8239 - val_loss: 0.3341 - val_acc: 0.8880\n",
            "Epoch 2/10\n",
            "15860/15860 [==============================] - 76s 5ms/step - loss: 0.3511 - acc: 0.8751 - val_loss: 0.2909 - val_acc: 0.8986\n",
            "Epoch 3/10\n",
            "15860/15860 [==============================] - 77s 5ms/step - loss: 0.3110 - acc: 0.8904 - val_loss: 0.2654 - val_acc: 0.9090\n",
            "Epoch 4/10\n",
            "15860/15860 [==============================] - 77s 5ms/step - loss: 0.2821 - acc: 0.8981 - val_loss: 0.2537 - val_acc: 0.9123\n",
            "Epoch 5/10\n",
            "15860/15860 [==============================] - 77s 5ms/step - loss: 0.2585 - acc: 0.9067 - val_loss: 0.2447 - val_acc: 0.9133\n",
            "Epoch 6/10\n",
            "15860/15860 [==============================] - 78s 5ms/step - loss: 0.2377 - acc: 0.9158 - val_loss: 0.2466 - val_acc: 0.9145\n",
            "Epoch 7/10\n",
            "15860/15860 [==============================] - 77s 5ms/step - loss: 0.2165 - acc: 0.9206 - val_loss: 0.2488 - val_acc: 0.9153\n",
            "Epoch 8/10\n",
            "15860/15860 [==============================] - 77s 5ms/step - loss: 0.1955 - acc: 0.9296 - val_loss: 0.2609 - val_acc: 0.9125\n",
            "Epoch 9/10\n",
            "15860/15860 [==============================] - 77s 5ms/step - loss: 0.1722 - acc: 0.9378 - val_loss: 0.2712 - val_acc: 0.9163\n",
            "Epoch 10/10\n",
            "15860/15860 [==============================] - 77s 5ms/step - loss: 0.1549 - acc: 0.9447 - val_loss: 0.2675 - val_acc: 0.9148\n",
            "              precision    recall  f1-score   support\n",
            "\n",
            "           0       0.44      0.18      0.25       286\n",
            "           1       0.92      0.97      0.95      3838\n",
            "           2       0.88      0.86      0.87       833\n",
            "\n",
            "    accuracy                           0.90      4957\n",
            "   macro avg       0.75      0.67      0.69      4957\n",
            "weighted avg       0.89      0.90      0.89      4957\n",
            "\n",
            "Train on 15861 samples, validate on 3966 samples\n",
            "Epoch 1/10\n",
            "15861/15861 [==============================] - 80s 5ms/step - loss: 0.5118 - acc: 0.8181 - val_loss: 0.3282 - val_acc: 0.8956\n",
            "Epoch 2/10\n",
            "15861/15861 [==============================] - 75s 5ms/step - loss: 0.3640 - acc: 0.8731 - val_loss: 0.2889 - val_acc: 0.9022\n",
            "Epoch 3/10\n",
            "15861/15861 [==============================] - 75s 5ms/step - loss: 0.3117 - acc: 0.8908 - val_loss: 0.2632 - val_acc: 0.9100\n",
            "Epoch 4/10\n",
            "15861/15861 [==============================] - 76s 5ms/step - loss: 0.2875 - acc: 0.8979 - val_loss: 0.2519 - val_acc: 0.9143\n",
            "Epoch 5/10\n",
            "15861/15861 [==============================] - 76s 5ms/step - loss: 0.2620 - acc: 0.9055 - val_loss: 0.2533 - val_acc: 0.9163\n",
            "Epoch 6/10\n",
            "15861/15861 [==============================] - 75s 5ms/step - loss: 0.2402 - acc: 0.9131 - val_loss: 0.2557 - val_acc: 0.9138\n",
            "Epoch 7/10\n",
            "15861/15861 [==============================] - 75s 5ms/step - loss: 0.2164 - acc: 0.9206 - val_loss: 0.2562 - val_acc: 0.9128\n",
            "Epoch 8/10\n",
            "15861/15861 [==============================] - 75s 5ms/step - loss: 0.2025 - acc: 0.9283 - val_loss: 0.2521 - val_acc: 0.9123\n",
            "Epoch 9/10\n",
            "15861/15861 [==============================] - 75s 5ms/step - loss: 0.1778 - acc: 0.9380 - val_loss: 0.2663 - val_acc: 0.9097\n",
            "Epoch 10/10\n",
            "15861/15861 [==============================] - 75s 5ms/step - loss: 0.1671 - acc: 0.9393 - val_loss: 0.2585 - val_acc: 0.9112\n",
            "              precision    recall  f1-score   support\n",
            "\n",
            "           0       0.42      0.25      0.31       286\n",
            "           1       0.92      0.96      0.94      3838\n",
            "           2       0.87      0.81      0.84       832\n",
            "\n",
            "    accuracy                           0.89      4956\n",
            "   macro avg       0.73      0.67      0.70      4956\n",
            "weighted avg       0.88      0.89      0.89      4956\n",
            "\n",
            "Train on 15861 samples, validate on 3966 samples\n",
            "Epoch 1/10\n",
            "15861/15861 [==============================] - 79s 5ms/step - loss: 0.5193 - acc: 0.8151 - val_loss: 0.2628 - val_acc: 0.9266\n",
            "Epoch 2/10\n",
            "15861/15861 [==============================] - 75s 5ms/step - loss: 0.3743 - acc: 0.8641 - val_loss: 0.2126 - val_acc: 0.9339\n",
            "Epoch 3/10\n",
            "15861/15861 [==============================] - 75s 5ms/step - loss: 0.3189 - acc: 0.8842 - val_loss: 0.2053 - val_acc: 0.9360\n",
            "Epoch 4/10\n",
            "15861/15861 [==============================] - 75s 5ms/step - loss: 0.2907 - acc: 0.8963 - val_loss: 0.1987 - val_acc: 0.9372\n",
            "Epoch 5/10\n",
            "15861/15861 [==============================] - 75s 5ms/step - loss: 0.2694 - acc: 0.9047 - val_loss: 0.2004 - val_acc: 0.9382\n",
            "Epoch 6/10\n",
            "15861/15861 [==============================] - 75s 5ms/step - loss: 0.2487 - acc: 0.9098 - val_loss: 0.1937 - val_acc: 0.9385\n",
            "Epoch 7/10\n",
            "15861/15861 [==============================] - 75s 5ms/step - loss: 0.2286 - acc: 0.9192 - val_loss: 0.2051 - val_acc: 0.9339\n",
            "Epoch 8/10\n",
            "15861/15861 [==============================] - 75s 5ms/step - loss: 0.2050 - acc: 0.9278 - val_loss: 0.2031 - val_acc: 0.9365\n",
            "Epoch 9/10\n",
            "15861/15861 [==============================] - 75s 5ms/step - loss: 0.1879 - acc: 0.9344 - val_loss: 0.2082 - val_acc: 0.9332\n",
            "Epoch 10/10\n",
            "15861/15861 [==============================] - 75s 5ms/step - loss: 0.1701 - acc: 0.9393 - val_loss: 0.2020 - val_acc: 0.9380\n",
            "              precision    recall  f1-score   support\n",
            "\n",
            "           0       0.57      0.15      0.23       286\n",
            "           1       0.93      0.97      0.95      3838\n",
            "           2       0.83      0.92      0.87       832\n",
            "\n",
            "    accuracy                           0.91      4956\n",
            "   macro avg       0.78      0.68      0.69      4956\n",
            "weighted avg       0.90      0.91      0.90      4956\n",
            "\n",
            "[0.75, 0.69, 0.7, 0.89, 0.9, 0.89]\n"
          ],
          "name": "stdout"
        }
      ]
    },
    {
      "cell_type": "code",
      "metadata": {
        "id": "SOqxRKBQWp_4",
        "colab_type": "code",
        "colab": {
          "base_uri": "https://localhost:8080/",
          "height": 1000
        },
        "outputId": "a6a072e6-1721-4e93-c05d-1adcb5948723"
      },
      "source": [
        "from sklearn.model_selection import train_test_split, StratifiedKFold\n",
        "from sklearn import pipeline, feature_extraction, svm, metrics\n",
        "from keras.layers import Conv1D, GlobalAveragePooling1D, MaxPooling1D\n",
        "try:\n",
        "  from keras_self_attention import SeqSelfAttention\n",
        "except:\n",
        "  !pip install keras-self-attention\n",
        "  from keras_self_attention import SeqSelfAttention\n",
        "def CNN_model():\n",
        "        model = Sequential()\n",
        "        \n",
        "        model.add(Embedding(vocab_size, 50, weights=[embedding_matrix], input_length=max_document_length, trainable=True))\n",
        "        model.add(Dropout(0.5))\n",
        "        model.add(Conv1D(filters=FILTER_SIZE, kernel_size=KERNEL_SIZE, padding='same', activation='relu'))\n",
        "        \n",
        "        # model.add(MaxPooling1D(4))\n",
        "        # model.add(Conv1D(filters=128, kernel_size=5,  activation='relu'))\n",
        "        \n",
        "        model.add(SeqSelfAttention(attention_activation='sigmoid'))\n",
        "        model.add(GlobalAveragePooling1D())\n",
        "        # model.add(LSTM(10))\n",
        "        # model.add(Dense(3, activation='softmax'))\n",
        "        # model.add(Dropout(0.5))\n",
        "        model.add(Dense(3, activation=\"softmax\"))\n",
        "        # model.add(Activation('softmax'))\n",
        "        model.compile(loss='sparse_categorical_crossentropy', optimizer='adam', metrics=['accuracy'])\n",
        "        return model\n",
        "\n",
        "def classify(X, y):\n",
        "    # self.split(X,y)\n",
        "    cv = StratifiedKFold(n_splits=5)\n",
        "    results = [0,0,0, 0,0,0,0,0,0]\n",
        "    for train_idx, test_idx, in cv.split(X, y):\n",
        "        X_train, y_train = X[train_idx], y[train_idx]\n",
        "        X_test, y_test = X[test_idx], y[test_idx]\n",
        "        model = CNN_model()\n",
        "        model.fit(X_train, y_train, validation_split=0.25, epochs=EPOCHS, batch_size=BATCH_SIZE, verbose=1)\n",
        "\n",
        "        y_pred = model.predict_classes(X_test)\n",
        "        y_test = [int(i) for i in y_test]\n",
        "        print(metrics.classification_report(y_test, y_pred))\n",
        "        results = [x + y for x, y in zip(results , list( metrics.precision_recall_fscore_support(y_test, y_pred, average=\"macro\")[:-1] + metrics.precision_recall_fscore_support(y_test, y_pred, average=\"weighted\")[:-1]))]\n",
        "        \n",
        "    print([round(x/5 , 2) for x in results ])\n",
        "classify(X,Y)\n"
      ],
      "execution_count": 43,
      "outputs": [
        {
          "output_type": "stream",
          "text": [
            "Train on 14869 samples, validate on 4957 samples\n",
            "Epoch 1/10\n",
            "14869/14869 [==============================] - 27s 2ms/step - loss: 0.4952 - acc: 0.8259 - val_loss: 0.3305 - val_acc: 0.8840\n",
            "Epoch 2/10\n",
            "14869/14869 [==============================] - 24s 2ms/step - loss: 0.3604 - acc: 0.8713 - val_loss: 0.2913 - val_acc: 0.8993\n",
            "Epoch 3/10\n",
            "14869/14869 [==============================] - 25s 2ms/step - loss: 0.3186 - acc: 0.8855 - val_loss: 0.2721 - val_acc: 0.9070\n",
            "Epoch 4/10\n",
            "14869/14869 [==============================] - 28s 2ms/step - loss: 0.2871 - acc: 0.8982 - val_loss: 0.2594 - val_acc: 0.9135\n",
            "Epoch 5/10\n",
            "14869/14869 [==============================] - 25s 2ms/step - loss: 0.2627 - acc: 0.9086 - val_loss: 0.2560 - val_acc: 0.9124\n",
            "Epoch 6/10\n",
            "14869/14869 [==============================] - 26s 2ms/step - loss: 0.2439 - acc: 0.9140 - val_loss: 0.2569 - val_acc: 0.9124\n",
            "Epoch 7/10\n",
            "14869/14869 [==============================] - 25s 2ms/step - loss: 0.2219 - acc: 0.9213 - val_loss: 0.2508 - val_acc: 0.9145\n",
            "Epoch 8/10\n",
            "14869/14869 [==============================] - 24s 2ms/step - loss: 0.2041 - acc: 0.9264 - val_loss: 0.2535 - val_acc: 0.9149\n",
            "Epoch 9/10\n",
            "14869/14869 [==============================] - 24s 2ms/step - loss: 0.1897 - acc: 0.9332 - val_loss: 0.2602 - val_acc: 0.9124\n",
            "Epoch 10/10\n",
            "14869/14869 [==============================] - 24s 2ms/step - loss: 0.1770 - acc: 0.9364 - val_loss: 0.2545 - val_acc: 0.9169\n",
            "              precision    recall  f1-score   support\n",
            "\n",
            "           0       0.43      0.35      0.39       286\n",
            "           1       0.94      0.93      0.93      3838\n",
            "           2       0.80      0.89      0.85       833\n",
            "\n",
            "    accuracy                           0.89      4957\n",
            "   macro avg       0.72      0.72      0.72      4957\n",
            "weighted avg       0.89      0.89      0.89      4957\n",
            "\n",
            "Train on 14869 samples, validate on 4957 samples\n",
            "Epoch 1/10\n",
            "14869/14869 [==============================] - 27s 2ms/step - loss: 0.4966 - acc: 0.8245 - val_loss: 0.3247 - val_acc: 0.8882\n",
            "Epoch 2/10\n",
            "14869/14869 [==============================] - 24s 2ms/step - loss: 0.3626 - acc: 0.8694 - val_loss: 0.2942 - val_acc: 0.8947\n",
            "Epoch 3/10\n",
            "14869/14869 [==============================] - 24s 2ms/step - loss: 0.3177 - acc: 0.8870 - val_loss: 0.2704 - val_acc: 0.9098\n",
            "Epoch 4/10\n",
            "14869/14869 [==============================] - 24s 2ms/step - loss: 0.2889 - acc: 0.8976 - val_loss: 0.2637 - val_acc: 0.9096\n",
            "Epoch 5/10\n",
            "14869/14869 [==============================] - 25s 2ms/step - loss: 0.2673 - acc: 0.9077 - val_loss: 0.2599 - val_acc: 0.9137\n",
            "Epoch 6/10\n",
            "14869/14869 [==============================] - 26s 2ms/step - loss: 0.2435 - acc: 0.9159 - val_loss: 0.2615 - val_acc: 0.9106\n",
            "Epoch 7/10\n",
            "14869/14869 [==============================] - 26s 2ms/step - loss: 0.2265 - acc: 0.9210 - val_loss: 0.2534 - val_acc: 0.9167\n",
            "Epoch 8/10\n",
            "14869/14869 [==============================] - 26s 2ms/step - loss: 0.2043 - acc: 0.9291 - val_loss: 0.2508 - val_acc: 0.9181\n",
            "Epoch 9/10\n",
            "14869/14869 [==============================] - 27s 2ms/step - loss: 0.1853 - acc: 0.9344 - val_loss: 0.2611 - val_acc: 0.9145\n",
            "Epoch 10/10\n",
            "14869/14869 [==============================] - 26s 2ms/step - loss: 0.1783 - acc: 0.9371 - val_loss: 0.2610 - val_acc: 0.9122\n",
            "              precision    recall  f1-score   support\n",
            "\n",
            "           0       0.41      0.28      0.33       286\n",
            "           1       0.91      0.95      0.93      3838\n",
            "           2       0.87      0.79      0.83       833\n",
            "\n",
            "    accuracy                           0.89      4957\n",
            "   macro avg       0.73      0.68      0.70      4957\n",
            "weighted avg       0.88      0.89      0.88      4957\n",
            "\n",
            "Train on 14869 samples, validate on 4957 samples\n",
            "Epoch 1/10\n",
            "14869/14869 [==============================] - 28s 2ms/step - loss: 0.4978 - acc: 0.8232 - val_loss: 0.3264 - val_acc: 0.8882\n",
            "Epoch 2/10\n",
            "14869/14869 [==============================] - 25s 2ms/step - loss: 0.3640 - acc: 0.8670 - val_loss: 0.2895 - val_acc: 0.9009\n",
            "Epoch 3/10\n",
            "14869/14869 [==============================] - 24s 2ms/step - loss: 0.3206 - acc: 0.8851 - val_loss: 0.2675 - val_acc: 0.9086\n",
            "Epoch 4/10\n",
            "14869/14869 [==============================] - 24s 2ms/step - loss: 0.2913 - acc: 0.8948 - val_loss: 0.2730 - val_acc: 0.9040\n",
            "Epoch 5/10\n",
            "14869/14869 [==============================] - 24s 2ms/step - loss: 0.2634 - acc: 0.9054 - val_loss: 0.2567 - val_acc: 0.9126\n",
            "Epoch 6/10\n",
            "14869/14869 [==============================] - 25s 2ms/step - loss: 0.2461 - acc: 0.9138 - val_loss: 0.2490 - val_acc: 0.9155\n",
            "Epoch 7/10\n",
            "14869/14869 [==============================] - 24s 2ms/step - loss: 0.2190 - acc: 0.9188 - val_loss: 0.2503 - val_acc: 0.9139\n",
            "Epoch 8/10\n",
            "14869/14869 [==============================] - 25s 2ms/step - loss: 0.2047 - acc: 0.9249 - val_loss: 0.2556 - val_acc: 0.9131\n",
            "Epoch 9/10\n",
            "14869/14869 [==============================] - 25s 2ms/step - loss: 0.1855 - acc: 0.9339 - val_loss: 0.2642 - val_acc: 0.9110\n",
            "Epoch 10/10\n",
            "14869/14869 [==============================] - 26s 2ms/step - loss: 0.1683 - acc: 0.9386 - val_loss: 0.2647 - val_acc: 0.9139\n",
            "              precision    recall  f1-score   support\n",
            "\n",
            "           0       0.49      0.18      0.26       286\n",
            "           1       0.92      0.97      0.94      3838\n",
            "           2       0.90      0.83      0.86       833\n",
            "\n",
            "    accuracy                           0.90      4957\n",
            "   macro avg       0.77      0.66      0.69      4957\n",
            "weighted avg       0.89      0.90      0.89      4957\n",
            "\n",
            "Train on 14870 samples, validate on 4957 samples\n",
            "Epoch 1/10\n",
            "14870/14870 [==============================] - 27s 2ms/step - loss: 0.4994 - acc: 0.8224 - val_loss: 0.3697 - val_acc: 0.8717\n",
            "Epoch 2/10\n",
            "14870/14870 [==============================] - 26s 2ms/step - loss: 0.3617 - acc: 0.8677 - val_loss: 0.3180 - val_acc: 0.8915\n",
            "Epoch 3/10\n",
            "14870/14870 [==============================] - 25s 2ms/step - loss: 0.3095 - acc: 0.8879 - val_loss: 0.2994 - val_acc: 0.9020\n",
            "Epoch 4/10\n",
            "14870/14870 [==============================] - 24s 2ms/step - loss: 0.2820 - acc: 0.8977 - val_loss: 0.2966 - val_acc: 0.9001\n",
            "Epoch 5/10\n",
            "14870/14870 [==============================] - 24s 2ms/step - loss: 0.2545 - acc: 0.9100 - val_loss: 0.2839 - val_acc: 0.9070\n",
            "Epoch 6/10\n",
            "14870/14870 [==============================] - 24s 2ms/step - loss: 0.2344 - acc: 0.9174 - val_loss: 0.2897 - val_acc: 0.9062\n",
            "Epoch 7/10\n",
            "14870/14870 [==============================] - 23s 2ms/step - loss: 0.2142 - acc: 0.9243 - val_loss: 0.2999 - val_acc: 0.9048\n",
            "Epoch 8/10\n",
            "14870/14870 [==============================] - 25s 2ms/step - loss: 0.1987 - acc: 0.9289 - val_loss: 0.2929 - val_acc: 0.9058\n",
            "Epoch 9/10\n",
            "14870/14870 [==============================] - 25s 2ms/step - loss: 0.1813 - acc: 0.9364 - val_loss: 0.3166 - val_acc: 0.9048\n",
            "Epoch 10/10\n",
            "14870/14870 [==============================] - 24s 2ms/step - loss: 0.1697 - acc: 0.9391 - val_loss: 0.3018 - val_acc: 0.9068\n",
            "              precision    recall  f1-score   support\n",
            "\n",
            "           0       0.78      0.10      0.18       286\n",
            "           1       0.92      0.98      0.95      3838\n",
            "           2       0.86      0.85      0.86       832\n",
            "\n",
            "    accuracy                           0.91      4956\n",
            "   macro avg       0.85      0.64      0.66      4956\n",
            "weighted avg       0.90      0.91      0.89      4956\n",
            "\n",
            "Train on 14870 samples, validate on 4957 samples\n",
            "Epoch 1/10\n",
            "14870/14870 [==============================] - 26s 2ms/step - loss: 0.5202 - acc: 0.8099 - val_loss: 0.2867 - val_acc: 0.8967\n",
            "Epoch 2/10\n",
            "14870/14870 [==============================] - 24s 2ms/step - loss: 0.3795 - acc: 0.8613 - val_loss: 0.2321 - val_acc: 0.9254\n",
            "Epoch 3/10\n",
            "14870/14870 [==============================] - 25s 2ms/step - loss: 0.3294 - acc: 0.8822 - val_loss: 0.2145 - val_acc: 0.9320\n",
            "Epoch 4/10\n",
            "14870/14870 [==============================] - 24s 2ms/step - loss: 0.3006 - acc: 0.8913 - val_loss: 0.2219 - val_acc: 0.9286\n",
            "Epoch 5/10\n",
            "14870/14870 [==============================] - 23s 2ms/step - loss: 0.2727 - acc: 0.9012 - val_loss: 0.2177 - val_acc: 0.9284\n",
            "Epoch 6/10\n",
            "14870/14870 [==============================] - 24s 2ms/step - loss: 0.2543 - acc: 0.9077 - val_loss: 0.2056 - val_acc: 0.9328\n",
            "Epoch 7/10\n",
            "14870/14870 [==============================] - 22s 2ms/step - loss: 0.2349 - acc: 0.9157 - val_loss: 0.2112 - val_acc: 0.9304\n",
            "Epoch 8/10\n",
            "14870/14870 [==============================] - 22s 1ms/step - loss: 0.2151 - acc: 0.9256 - val_loss: 0.2180 - val_acc: 0.9282\n",
            "Epoch 9/10\n",
            "14870/14870 [==============================] - 23s 2ms/step - loss: 0.1996 - acc: 0.9288 - val_loss: 0.2267 - val_acc: 0.9246\n",
            "Epoch 10/10\n",
            "14870/14870 [==============================] - 23s 2ms/step - loss: 0.1837 - acc: 0.9355 - val_loss: 0.2395 - val_acc: 0.9203\n",
            "              precision    recall  f1-score   support\n",
            "\n",
            "           0       0.61      0.18      0.28       286\n",
            "           1       0.92      0.97      0.94      3838\n",
            "           2       0.87      0.83      0.85       832\n",
            "\n",
            "    accuracy                           0.90      4956\n",
            "   macro avg       0.80      0.66      0.69      4956\n",
            "weighted avg       0.89      0.90      0.89      4956\n",
            "\n",
            "[0.77, 0.67, 0.69, 0.89, 0.9, 0.89]\n"
          ],
          "name": "stdout"
        }
      ]
    },
    {
      "cell_type": "code",
      "metadata": {
        "id": "RHdooeGFpFKI",
        "colab_type": "code",
        "colab": {}
      },
      "source": [
        "print([round(x/5 , 2) for x in results ])"
      ],
      "execution_count": 0,
      "outputs": []
    },
    {
      "cell_type": "code",
      "metadata": {
        "id": "AFspqQv7A9Ud",
        "colab_type": "code",
        "colab": {}
      },
      "source": [
        "from sklearn.model_selection import train_test_split, StratifiedKFold\n",
        "from sklearn import pipeline, feature_extraction, svm, metrics\n",
        "from keras.layers import Conv1D, GlobalAveragePooling1D, MaxPooling1D\n",
        "def CNN_LSTM_model():\n",
        "        model = Sequential()\n",
        "        model.add(Embedding(vocab_size, embedding_dim, input_length=max_document_length))\n",
        "        model.add(Dropout(0.5))\n",
        "        model.add(Conv1D(filters=100, kernel_size=4, activation='linear'))\n",
        "        # model.add(Dropout(0.7))\n",
        "        model.add(MaxPooling1D(4))\n",
        "        model.add(LSTM(100, return_sequences = True))\n",
        "      \n",
        "        model.add(GlobalAveragePooling1D(data_format='channels_last'))\n",
        "        # model.add(LSTM(10))\n",
        "        # model.add(Dense(3, activation='softmax'))\n",
        "        # model.add(Dropout(0.5))\n",
        "       \n",
        "        model.add(Dense(3, activation=\"softmax\"))\n",
        "        \n",
        "        # model.add(Activation('softmax'))\n",
        "        model.compile(loss='sparse_categorical_crossentropy', optimizer='adam', metrics=['accuracy'])\n",
        "    \n",
        "        return model\n",
        "\n",
        "def classify(X, y):\n",
        "    # self.split(X,y)\n",
        "    cv = StratifiedKFold(n_splits=5)\n",
        "    results = [0,0,0, 0,0,0,0,0,0]\n",
        "    for train_idx, test_idx, in cv.split(X, y):\n",
        "        X_train, y_train = X[train_idx], y[train_idx]\n",
        "        X_test, y_test = X[test_idx], y[test_idx]\n",
        "        model = CNN_LSTM_model()\n",
        "        model.fit(X_train, y_train, validation_split=0.25, epochs=EPOCHS, batch_size=BATCH_SIZE, verbose=1)\n",
        "\n",
        "        y_pred = model.predict_classes(X_test)\n",
        "        y_test = [int(i) for i in y_test]\n",
        "        print(metrics.classification_report(y_test, y_pred))\n",
        "        results = [x + y for x, y in zip(results , list( metrics.precision_recall_fscore_support(y_test, y_pred, average=\"macro\")[:-1] + metrics.precision_recall_fscore_support(y_test, y_pred, average=\"weighted\")[:-1]))]\n",
        "\n",
        "    print([round(x/5 , 2) for x in results ])\n",
        "\n",
        "classify(X, Y)\n"
      ],
      "execution_count": 0,
      "outputs": []
    },
    {
      "cell_type": "code",
      "metadata": {
        "id": "fpUcPeM0V-JW",
        "colab_type": "code",
        "colab": {}
      },
      "source": [
        "# from gensim.models import Word2Vec\n",
        "\n",
        "# glove_6b = \"glove.6B.50d.txt\"\n",
        "\n",
        "# #loading the glove vectors \n",
        "\n",
        "# with open(glove_6b, \"rb\") as lines:\n",
        "#      wvec = {\n",
        "#         line.split()[0].decode(encoding): np.array(line.split()[1:], \n",
        "#                                                          dtype=np.float32)\n",
        "#                                                          for line in lines}\n",
        "\n",
        "# #my data vectors\n",
        "\n",
        "# em_model = Word2Vec(text_data2, size=100, window=5, min_count=1, workers=2)\n",
        "# w2v = {w: vec for w, vec in zip(em_model.wv.index2word, em_model.wv.vectors)}\n",
        "\n",
        "# a = list(w2v.keys())\n",
        "\n",
        "# #mixing them both \n",
        "# for i in a:\n",
        "#     if i in wvec:\n",
        "#        continue\n",
        "#     else:\n",
        "#        wvec.update({ i  : w2v[i]})\n",
        "\n",
        "# len(list(wvec.keys()))"
      ],
      "execution_count": 0,
      "outputs": []
    },
    {
      "cell_type": "code",
      "metadata": {
        "id": "Cp_hLs-NKhH8",
        "colab_type": "code",
        "colab": {}
      },
      "source": [
        "\n",
        "\n",
        "\n",
        "def CNN_LSTM_model():\n",
        "        model = Sequential()\n",
        "   \n",
        "        model.add(Embedding(vocab_size, 50, weights=[embedding_matrix], input_length=max_document_length, trainable=True))\n",
        "        model.add(Dropout(0.2))\n",
        "        \n",
        "       \n",
        "        model.add(Conv1D(filters=150, kernel_size=3, activation='linear'))\n",
        "        # model.add(Dropout(0.5))\n",
        "        model.add(MaxPooling1D(4))\n",
        "        # model.add(LSTM(256, return_sequences = True))\n",
        "      \n",
        "        model.add(GlobalAveragePooling1D(data_format='channels_last'))\n",
        "        # model.add(LSTM(10))\n",
        "        # model.add(Dense(3, activation='softmax'))\n",
        "        # model.add(Dropout(0.5))\n",
        "       \n",
        "        model.add(Dense(3, activation=\"softmax\"))\n",
        "        \n",
        "        # model.add(Activation('softmax'))\n",
        "        model.compile(loss='sparse_categorical_crossentropy', optimizer='adam', metrics=['accuracy'])\n",
        "    \n",
        "        return model\n",
        "\n",
        "def classify(X, y):\n",
        "    # self.split(X,y)\n",
        "    cv = StratifiedKFold(n_splits=5)\n",
        "    results = [0,0,0, 0,0,0,0,0,0]\n",
        "    \n",
        "    for train_idx, test_idx, in cv.split(X, y):\n",
        "        X_train, y_train = X[train_idx], y[train_idx]\n",
        "        X_test, y_test = X[test_idx], y[test_idx]\n",
        "        model = CNN_LSTM_model()\n",
        "        model.fit(X_train, y_train, validation_split=0.25, epochs=15, batch_size=BATCH_SIZE, verbose=1)\n",
        "\n",
        "        y_pred = model.predict_classes(X_test)\n",
        "        y_test = [int(i) for i in y_test]\n",
        "        print(metrics.classification_report(y_test, y_pred))\n",
        "        results = [x + y for x, y in zip(results , list( metrics.precision_recall_fscore_support(y_test, y_pred, average=\"macro\")[:-1] + metrics.precision_recall_fscore_support(y_test, y_pred, average=\"weighted\")[:-1]))]\n",
        "    print([round(x/5 , 2) for x in results ])\n",
        "\n",
        "classify(X, Y)\n"
      ],
      "execution_count": 0,
      "outputs": []
    }
  ]
}